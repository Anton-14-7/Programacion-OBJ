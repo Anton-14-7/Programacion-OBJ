{
 "cells": [
  {
   "cell_type": "markdown",
   "id": "43b74bd2-4f2c-4f53-96fe-35f89ebf6a6f",
   "metadata": {},
   "source": [
    "#Representaciones de las clases del juego black jack.\n",
    "![Blackjack](https://media.istockphoto.com/photos/gambling-hand-holding-poker-cards-and-money-coins-chips-picture-id903362472?k=20&m=903362472&s=612x612&w=0&h=Tyrp0i-VmL0BZ6_rfNAlnd78BtsLQKG05F2xVJNM3Cs=)"
   ]
  },
  {
   "cell_type": "code",
   "execution_count": 1,
   "id": "b9053eab-a0a6-4e97-9455-fab5b5c232b4",
   "metadata": {},
   "outputs": [],
   "source": [
    "class Baraja:\n",
    "    #ATRIBUTOS\n",
    "    tamaño: int\n",
    "    tipo: str\n",
    "    #RELACIONES\n",
    "    cartas: list #PORQUE SON MUCHAS\n",
    "    #MÉTODOS\n",
    "    def mezclar(): pass\n",
    "\n",
    "class Carta:\n",
    "    #ATRIBUTOS\n",
    "    valor: int\n",
    "    palo: str\n",
    "    esta_oculta: bool\n",
    "    #RELACIONES\n",
    "    baraja: Baraja\n",
    "    #MÉTODOS\n",
    "    def enseñar(): pass\n",
    "\n",
    "class Mano:\n",
    "    #ATRIBUTOS\n",
    "    puntaje: int\n",
    "    tamaños: int\n",
    "    #MÉTODOS\n",
    "    def revelar_carta(): pass\n",
    "\n",
    "\n",
    "class Fichas:\n",
    "    #ATRIBUTOS\n",
    "    valor: int\n",
    "    tamaño: int\n",
    "    color: str\n",
    "    \n",
    "class Dealer:\n",
    "    #MÉTODOS\n",
    "    def pedir_carta(): pass\n",
    "    def pasar(): pass\n",
    "\n",
    "class Jugador:\n",
    "    #ATRIBUTOS\n",
    "    nombre: str\n",
    "    descripción: str\n",
    "    turno: bool\n",
    "    #MÉTODOS\n",
    "    def apostar(): pass\n",
    "    def pasar(): pass\n",
    "    def revelar_carta(): pass\n",
    "    def pedir_carta(): pass\n",
    "\n",
    "class Juego:\n",
    "    #ATRIBUTOS\n",
    "    menu: bool\n",
    "    numero_de_jugadores: int\n",
    "    tipo_dealer: bool\n",
    "    apuesta_max: int\n",
    "    apuesta_min: int\n",
    "    #MÉTODOS\n",
    "    def inicio_juego: pass\n",
    "    def fin_juego: pass\n",
    "\n",
    "\n",
    "    "
   ]
  },
  {
   "cell_type": "code",
   "execution_count": null,
   "id": "381607fc-bad3-4323-b4fb-8c4168946a38",
   "metadata": {},
   "outputs": [],
   "source": []
  }
 ],
 "metadata": {
  "kernelspec": {
   "display_name": "Python 3 (ipykernel)",
   "language": "python",
   "name": "python3"
  },
  "language_info": {
   "codemirror_mode": {
    "name": "ipython",
    "version": 3
   },
   "file_extension": ".py",
   "mimetype": "text/x-python",
   "name": "python",
   "nbconvert_exporter": "python",
   "pygments_lexer": "ipython3",
   "version": "3.10.2"
  }
 },
 "nbformat": 4,
 "nbformat_minor": 5
}
